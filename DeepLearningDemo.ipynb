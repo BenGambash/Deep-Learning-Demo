{
 "cells": [
  {
   "cell_type": "code",
   "execution_count": 1,
   "metadata": {},
   "outputs": [],
   "source": [
    "import numpy as np\n",
    "import torch\n",
    "import sys\n",
    "import torch.nn as nn\n",
    "import torch.nn.functional as F\n",
    "import torch.optim as optim\n",
    "from torch.utils import data\n",
    "from torchvision import transforms\n",
    "from torchvision.datasets import MNIST\n",
    "import matplotlib.pyplot as plt\n"
   ]
  },
  {
   "cell_type": "code",
   "execution_count": 2,
   "metadata": {},
   "outputs": [
    {
     "data": {
      "text/plain": [
       "True"
      ]
     },
     "execution_count": 2,
     "metadata": {},
     "output_type": "execute_result"
    }
   ],
   "source": [
    "cuda = torch.cuda.is_available()\n",
    "cuda"
   ]
  },
  {
   "cell_type": "code",
   "execution_count": 3,
   "metadata": {},
   "outputs": [],
   "source": [
    "train = MNIST('./data',train=True,download=True,transform =transforms.ToTensor())\n",
    "test = MNIST('./data',train=False,download=True,transform =transforms.ToTensor())\n",
    "train_data = train.data\n",
    "train_data = train.transform(train_data.numpy())"
   ]
  },
  {
   "cell_type": "code",
   "execution_count": 4,
   "metadata": {},
   "outputs": [
    {
     "data": {
      "text/plain": [
       "torch.Size([60000, 28, 28])"
      ]
     },
     "execution_count": 4,
     "metadata": {},
     "output_type": "execute_result"
    }
   ],
   "source": [
    "train.data.size()"
   ]
  },
  {
   "cell_type": "code",
   "execution_count": 5,
   "metadata": {},
   "outputs": [
    {
     "data": {
      "text/plain": [
       "torch.Size([10000, 28, 28])"
      ]
     },
     "execution_count": 5,
     "metadata": {},
     "output_type": "execute_result"
    }
   ],
   "source": [
    "test.data.size()"
   ]
  },
  {
   "cell_type": "code",
   "execution_count": 6,
   "metadata": {},
   "outputs": [
    {
     "data": {
      "text/plain": [
       "<matplotlib.image.AxesImage at 0x1ae3a052f98>"
      ]
     },
     "execution_count": 6,
     "metadata": {},
     "output_type": "execute_result"
    },
    {
     "data": {
      "image/png": "[encoded data removed]",
      "text/plain": [
       "<Figure size 432x288 with 1 Axes>"
      ]
     },
     "metadata": {
      "needs_background": "light"
     },
     "output_type": "display_data"
    }
   ],
   "source": [
    "plt.imshow(train.data.cpu().numpy()[2])"
   ]
  },
  {
   "cell_type": "code",
   "execution_count": 7,
   "metadata": {},
   "outputs": [],
   "source": [
    "class MyDataset(data.Dataset):\n",
    "    def __init__(self,X,Y):\n",
    "        self.X = X\n",
    "        self.Y = Y\n",
    "    \n",
    "    def __len__(self):\n",
    "        return len(self.Y)\n",
    "    \n",
    "    def __getitem__(self,index):\n",
    "        X = self.X[index].float().reshape(-1)\n",
    "        Y = self.Y[index].long()\n",
    "        return X,Y"
   ]
  },
  {
   "cell_type": "code",
   "execution_count": 8,
   "metadata": {},
   "outputs": [
    {
     "data": {
      "text/plain": [
       "'win32'"
      ]
     },
     "execution_count": 8,
     "metadata": {},
     "output_type": "execute_result"
    }
   ],
   "source": [
    "sys.platform"
   ]
  },
  {
   "cell_type": "code",
   "execution_count": 9,
   "metadata": {},
   "outputs": [],
   "source": [
    "train_dataset = MyDataset(train.data,train.targets)\n",
    "test_dataset = MyDataset(test.data,test.targets)\n"
   ]
  },
  {
   "cell_type": "code",
   "execution_count": 10,
   "metadata": {},
   "outputs": [],
   "source": [
    "train_loader_args = dict(shuffle=True,batch_size=256,num_workers=0,pin_memory=True) if cuda\\\n",
    "else dict(shuffle=True,batch_size=64)\n",
    "train_loader = data.DataLoader(train_dataset,**train_loader_args)"
   ]
  },
  {
   "cell_type": "code",
   "execution_count": 11,
   "metadata": {},
   "outputs": [],
   "source": [
    "test_loader_args = dict(shuffle=True,batch_size=256,num_workers=0,pin_memory=True) if cuda\\\n",
    "else dict(shuffle=True,batch_size=64)\n",
    "test_loader = data.DataLoader(test_dataset,**test_loader_args)"
   ]
  },
  {
   "cell_type": "code",
   "execution_count": 12,
   "metadata": {},
   "outputs": [],
   "source": [
    "# Simple_MLP([784,100,50,10])\n",
    "\n",
    "class Simple_MLP(nn.Module):\n",
    "    def __init__(self,size_list):\n",
    "        super(Simple_MLP,self).__init__()\n",
    "        layers=[]\n",
    "        self.size_list = size_list\n",
    "        for i in range(len(size_list) -2):\n",
    "            layers.append(nn.Linear(size_list[i],size_list[i+1]))\n",
    "            layers.append(nn.ReLU())\n",
    "        layers.append(nn.Linear(size_list[-2],size_list[-1]))\n",
    "        self.net = nn.Sequential(*layers)\n",
    "        \n",
    "    def forward(self,x):\n",
    "        return self.net(x)"
   ]
  },
  {
   "cell_type": "code",
   "execution_count": 13,
   "metadata": {},
   "outputs": [
    {
     "name": "stdout",
     "output_type": "stream",
     "text": [
      "Simple_MLP(\n",
      "  (net): Sequential(\n",
      "    (0): Linear(in_features=784, out_features=256, bias=True)\n",
      "    (1): ReLU()\n",
      "    (2): Linear(in_features=256, out_features=200, bias=True)\n",
      "    (3): ReLU()\n",
      "    (4): Linear(in_features=200, out_features=10, bias=True)\n",
      "  )\n",
      ")\n"
     ]
    }
   ],
   "source": [
    "# define the network for training\n",
    "model = Simple_MLP([784,256,200,10])\n",
    "criterion = nn.CrossEntropyLoss()\n",
    "optimizer = optim.Adam(model.parameters())\n",
    "device = torch.device(\"cuda\" if cuda else \"cpu\")\n",
    "print(model)"
   ]
  },
  {
   "cell_type": "code",
   "execution_count": 14,
   "metadata": {},
   "outputs": [],
   "source": [
    "import time\n",
    "def train_epoch(model,train_loader,criterion,optimizer):\n",
    "    model.train()\n",
    "    model.to(device)\n",
    "    running_loss=0.0\n",
    "    \n",
    "    start_time = time.time()\n",
    "    for batch_idx, (data,target) in enumerate(train_loader):\n",
    "        optimizer.zero_grad()\n",
    "        data = data.to(device)\n",
    "        target = target.to(device)\n",
    "        \n",
    "        outputs = model(data)\n",
    "        loss = criterion(outputs,target)\n",
    "        running_loss += loss.item()\n",
    "        \n",
    "        loss.backward()\n",
    "        optimizer.step()\n",
    "    \n",
    "    end_time = time.time()   \n",
    "    running_loss /= len(train_loader)\n",
    "    print(\"Train Loss: \", running_loss, ' Time: ', end_time-start_time)\n",
    "    return running_loss"
   ]
  },
  {
   "cell_type": "code",
   "execution_count": 15,
   "metadata": {},
   "outputs": [],
   "source": [
    "def test_epoch(model,test_loader,criterion):\n",
    "    with torch.no_grad():\n",
    "        model.eval()\n",
    "        model.to(device)\n",
    "        \n",
    "        running_loss = 0.0\n",
    "        total_predictions = 0.0\n",
    "        correct_predictions = 0.0\n",
    "        \n",
    "        for batch_idx, (data,target) in enumerate(test_loader):\n",
    "            data = data.to(device)\n",
    "            target = target.to(device)\n",
    "            outputs = model(data)\n",
    "            \n",
    "            _, predicted = torch.max(outputs.data,1)\n",
    "            \n",
    "            total_predictions += target.size(0)\n",
    "            correct_predictions += (predicted==target).sum().item()\n",
    "            \n",
    "            loss = criterion(outputs,target).detach()\n",
    "            running_loss += loss.item()\n",
    "        running_loss /= len(test_loader)\n",
    "        acc = (correct_predictions/total_predictions)*100.0\n",
    "        print('Test Loss: ',running_loss)\n",
    "        print('Test Acc: ',acc,'%')\n",
    "        return running_loss,acc"
   ]
  },
  {
   "cell_type": "code",
   "execution_count": 16,
   "metadata": {},
   "outputs": [
    {
     "name": "stdout",
     "output_type": "stream",
     "text": [
      "Train Loss:  0.5040876720496948  Time:  2.9595494270324707\n",
      "Test Loss:  0.1471781013533473\n",
      "Test Acc:  95.7 %\n",
      "==================================================\n",
      "Train Loss:  0.11526562311547868  Time:  2.1471915245056152\n",
      "Test Loss:  0.1400677889585495\n",
      "Test Acc:  96.0 %\n",
      "==================================================\n",
      "Train Loss:  0.07850997833971013  Time:  2.0451464653015137\n",
      "Test Loss:  0.11230794191360474\n",
      "Test Acc:  96.56 %\n",
      "==================================================\n",
      "Train Loss:  0.061568387875214535  Time:  2.231112480163574\n",
      "Test Loss:  0.09336886210367083\n",
      "Test Acc:  97.16 %\n",
      "==================================================\n",
      "Train Loss:  0.04569529341731934  Time:  2.113034725189209\n",
      "Test Loss:  0.09257827489636838\n",
      "Test Acc:  97.39 %\n",
      "==================================================\n",
      "Train Loss:  0.044860003591376416  Time:  2.1616485118865967\n",
      "Test Loss:  0.11881576497107744\n",
      "Test Acc:  96.94 %\n",
      "==================================================\n",
      "Train Loss:  0.044802960586991715  Time:  2.1332390308380127\n",
      "Test Loss:  0.11829569581896067\n",
      "Test Acc:  97.23 %\n",
      "==================================================\n",
      "Train Loss:  0.039146214703771665  Time:  2.1858181953430176\n",
      "Test Loss:  0.15762823121622205\n",
      "Test Acc:  96.71 %\n",
      "==================================================\n",
      "Train Loss:  0.045993982489280244  Time:  2.168390989303589\n",
      "Test Loss:  0.12415199158713222\n",
      "Test Acc:  96.97 %\n",
      "==================================================\n",
      "Train Loss:  0.02822888398424108  Time:  2.3691964149475098\n",
      "Test Loss:  0.11107306936755776\n",
      "Test Acc:  97.39 %\n",
      "==================================================\n",
      "Train Loss:  0.035038848707769465  Time:  2.2046871185302734\n",
      "Test Loss:  0.16446884917095303\n",
      "Test Acc:  96.67 %\n",
      "==================================================\n",
      "Train Loss:  0.033238362071619544  Time:  2.2992303371429443\n",
      "Test Loss:  0.13387586697936057\n",
      "Test Acc:  97.2 %\n",
      "==================================================\n",
      "Train Loss:  0.034014268932824436  Time:  2.365678548812866\n",
      "Test Loss:  0.13963281279429793\n",
      "Test Acc:  97.11 %\n",
      "==================================================\n",
      "Train Loss:  0.0319374390065353  Time:  3.709820508956909\n",
      "Test Loss:  0.16667877240106463\n",
      "Test Acc:  96.91 %\n",
      "==================================================\n",
      "Train Loss:  0.03582274487360995  Time:  3.0529637336730957\n",
      "Test Loss:  0.1733308659866452\n",
      "Test Acc:  97.07000000000001 %\n",
      "==================================================\n",
      "Train Loss:  0.03558882461226684  Time:  3.1311159133911133\n",
      "Test Loss:  0.1457289912737906\n",
      "Test Acc:  97.22 %\n",
      "==================================================\n",
      "Train Loss:  0.030800608918070793  Time:  3.6494715213775635\n",
      "Test Loss:  0.1992186039686203\n",
      "Test Acc:  96.82 %\n",
      "==================================================\n",
      "Train Loss:  0.028990984822999923  Time:  3.6910223960876465\n",
      "Test Loss:  0.15383401308208705\n",
      "Test Acc:  97.5 %\n",
      "==================================================\n",
      "Train Loss:  0.03342256388686439  Time:  3.6774706840515137\n",
      "Test Loss:  0.16471406286582352\n",
      "Test Acc:  97.19 %\n",
      "==================================================\n",
      "Train Loss:  0.03078486302352332  Time:  3.7481281757354736\n",
      "Test Loss:  0.15927703455090522\n",
      "Test Acc:  97.36 %\n",
      "==================================================\n",
      "Train Loss:  0.026756401546299456  Time:  3.5131781101226807\n",
      "Test Loss:  0.15203003031201662\n",
      "Test Acc:  97.59 %\n",
      "==================================================\n",
      "Train Loss:  0.01916869618791215  Time:  3.825836181640625\n",
      "Test Loss:  0.16641009971499443\n",
      "Test Acc:  97.45 %\n",
      "==================================================\n",
      "Train Loss:  0.030248328159622688  Time:  3.6956775188446045\n",
      "Test Loss:  0.2164434716105461\n",
      "Test Acc:  96.87 %\n",
      "==================================================\n",
      "Train Loss:  0.035669616605848706  Time:  3.980654001235962\n",
      "Test Loss:  0.2007720292545855\n",
      "Test Acc:  96.88 %\n",
      "==================================================\n",
      "Train Loss:  0.03955422708804303  Time:  3.7875492572784424\n",
      "Test Loss:  0.18113509183749557\n",
      "Test Acc:  97.19 %\n",
      "==================================================\n",
      "Train Loss:  0.030327487707867515  Time:  3.8190407752990723\n",
      "Test Loss:  0.16145217306911946\n",
      "Test Acc:  97.6 %\n",
      "==================================================\n",
      "Train Loss:  0.017903831561512134  Time:  3.4309003353118896\n",
      "Test Loss:  0.1812640976626426\n",
      "Test Acc:  97.49 %\n",
      "==================================================\n",
      "Train Loss:  0.02405613461197255  Time:  3.2456841468811035\n",
      "Test Loss:  0.17547525933478028\n",
      "Test Acc:  97.63 %\n",
      "==================================================\n",
      "Train Loss:  0.02829051348677975  Time:  3.658621072769165\n",
      "Test Loss:  0.20629905043169855\n",
      "Test Acc:  97.68 %\n",
      "==================================================\n",
      "Train Loss:  0.036331129733948635  Time:  3.418468952178955\n",
      "Test Loss:  0.18555999295786024\n",
      "Test Acc:  97.32 %\n",
      "==================================================\n"
     ]
    }
   ],
   "source": [
    "n_epoch = 30\n",
    "Train_loss = []\n",
    "Test_loss = []\n",
    "Test_acc = []\n",
    "for i in range(n_epoch):\n",
    "    train_loss = train_epoch(model,train_loader,criterion,optimizer)\n",
    "    test_loss,test_acc = test_epoch(model,test_loader,criterion)\n",
    "    Train_loss.append(train_loss)\n",
    "    Test_loss.append(test_loss)\n",
    "    Test_acc.append(test_acc)\n",
    "    print('='*50)\n",
    "    "
   ]
  },
  {
   "cell_type": "code",
   "execution_count": 17,
   "metadata": {},
   "outputs": [
    {
     "data": {
      "text/plain": [
       "[<matplotlib.lines.Line2D at 0x1ae3a1646a0>]"
      ]
     },
     "execution_count": 17,
     "metadata": {},
     "output_type": "execute_result"
    },
    {
     "data": {
      "image/png": "[encoded data removed]",
      "text/plain": [
       "<Figure size 432x288 with 1 Axes>"
      ]
     },
     "metadata": {
      "needs_background": "light"
     },
     "output_type": "display_data"
    }
   ],
   "source": [
    "plt.title('Training Loss')\n",
    "plt.xlabel('Epoch number')\n",
    "plt.ylabel('Loss/Criterion')\n",
    "plt.plot(Train_loss)"
   ]
  },
  {
   "cell_type": "code",
   "execution_count": 18,
   "metadata": {},
   "outputs": [
    {
     "data": {
      "text/plain": [
       "[<matplotlib.lines.Line2D at 0x1ae06002eb8>]"
      ]
     },
     "execution_count": 18,
     "metadata": {},
     "output_type": "execute_result"
    },
    {
     "data": {
      "image/png": "[encoded data removed]",
      "text/plain": [
       "<Figure size 432x288 with 1 Axes>"
      ]
     },
     "metadata": {
      "needs_background": "light"
     },
     "output_type": "display_data"
    }
   ],
   "source": [
    "plt.title('Test Loss')\n",
    "plt.xlabel('Epoch number')\n",
    "plt.ylabel('Loss/Criterion')\n",
    "plt.plot(Test_loss)"
   ]
  },
  {
   "cell_type": "code",
   "execution_count": 19,
   "metadata": {},
   "outputs": [
    {
     "data": {
      "text/plain": [
       "[<matplotlib.lines.Line2D at 0x1ae0a63b8d0>]"
      ]
     },
     "execution_count": 19,
     "metadata": {},
     "output_type": "execute_result"
    },
    {
     "data": {
      "image/png": "[encoded data removed]",
      "text/plain": [
       "<Figure size 432x288 with 1 Axes>"
      ]
     },
     "metadata": {
      "needs_background": "light"
     },
     "output_type": "display_data"
    }
   ],
   "source": [
    "plt.title('Test Accuracy')\n",
    "plt.xlabel('Epoch number')\n",
    "plt.ylabel('Accuracy (%)')\n",
    "plt.plot(Test_acc)"
   ]
  },
  {
   "cell_type": "code",
   "execution_count": null,
   "metadata": {},
   "outputs": [],
   "source": []
  },
  {
   "cell_type": "code",
   "execution_count": null,
   "metadata": {},
   "outputs": [],
   "source": []
  },
  {
   "cell_type": "code",
   "execution_count": null,
   "metadata": {},
   "outputs": [],
   "source": []
  }
 ],
 "metadata": {
  "kernelspec": {
   "display_name": "Python 3",
   "language": "python",
   "name": "python3"
  },
  "language_info": {
   "codemirror_mode": {
    "name": "ipython",
    "version": 3
   },
   "file_extension": ".py",
   "mimetype": "text/x-python",
   "name": "python",
   "nbconvert_exporter": "python",
   "pygments_lexer": "ipython3",
   "version": "3.7.4"
  }
 },
 "nbformat": 4,
 "nbformat_minor": 2
}
